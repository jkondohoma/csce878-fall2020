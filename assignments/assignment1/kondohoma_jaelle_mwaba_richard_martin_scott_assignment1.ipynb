{
 "cells": [
  {
   "cell_type": "markdown",
   "metadata": {},
   "source": [
    "# Assignment 1\n",
    "## K Nearest Neighbors Model for Binary Classification"
   ]
  },
  {
   "cell_type": "markdown",
   "metadata": {},
   "source": [
    "### Part A: Model Code"
   ]
  },
  {
   "cell_type": "code",
   "execution_count": 1,
   "metadata": {},
   "outputs": [],
   "source": [
    "import pandas as pd\n",
    "import numpy as np\n",
    "import matplotlib.pyplot as plt\n",
    "\n",
    "%matplotlib inline"
   ]
  },
  {
   "cell_type": "code",
   "execution_count": 2,
   "metadata": {},
   "outputs": [],
   "source": [
    "def minkowski_dist(v: np.array, w: np.array, p: int) -> float:\n",
    "    \"\"\"Calculate the or L_p distance between 2 vectors v and w for an integer p\"\"\"\n",
    "    sum = 0\n",
    "    for i in range(v.shape[0]):\n",
    "        difference = abs(v[i]-w[i])\n",
    "        sum += pow(difference, p)\n",
    "    return pow(sum, 1/p)"
   ]
  },
  {
   "cell_type": "code",
   "execution_count": 3,
   "metadata": {},
   "outputs": [],
   "source": [
    "def euclidean_dist(v: np.array, w: np.array) -> float:\n",
    "    \"\"\"Calculate the euclidean distance between 2 vectors v and w\"\"\"\n",
    "    return minkowski_dist(v,w,2)"
   ]
  },
  {
   "cell_type": "code",
   "execution_count": 4,
   "metadata": {},
   "outputs": [],
   "source": [
    "def manhattan_dist(v: np.array, w: np.array) -> float:\n",
    "    \"\"\"Calcuate the Manhattan (or L_1) distance between 2 vectors v and w\"\"\"\n",
    "    return minkowski_dist(v,w,1)"
   ]
  },
  {
   "cell_type": "code",
   "execution_count": 5,
   "metadata": {},
   "outputs": [],
   "source": [
    "class PredictionCountValues:\n",
    "    \"\"\"Stores the count values of predicted results and calculates precision and recall\"\"\"\n",
    "    def __init__(self, true_positives, false_positives, true_negatives, false_negatives):\n",
    "        self.true_positives = true_positives\n",
    "        self.false_positives = false_positives\n",
    "        self.true_negatives = true_negatives\n",
    "        self.false_negatives = false_negatives\n",
    "    \n",
    "    def precision(self) -> float:\n",
    "        \"\"\"Calculate precision for the given prediction count values\"\"\"\n",
    "        return self.true_positives/(self.true_positives+self.false_positives)\n",
    "\n",
    "    def recall(self) -> float:\n",
    "        \"\"\"Calculate recall for the given prediction count values\"\"\"\n",
    "        return self.true_positives/(self.true_positives+self.false_negatives)\n",
    "    \n",
    "    def precision_and_recall(self) -> (float, float):\n",
    "        \"\"\"Return precision and recall in a tuple (in that order) for the given prediction count values\"\"\"\n",
    "        return (self.precision(), self.recall())\n",
    "        \n",
    "def prediction_count_values(vals: np.array, predicted_probs: np.array, threshold=1) -> PredictionCountValues:\n",
    "    \"\"\"\n",
    "    Determine number of false postive, false negatives, true positives, true negatives for a given threshold and values\n",
    "    Parameters: \n",
    "        vals-target values\n",
    "        predicted_props-predicted probabilities of target values\n",
    "        threshold-the threshold at which prediced_probs must be to classify as true. Defaults to 1 to accomodate true predicted vals\n",
    "    Returns:\n",
    "        ScoreValueResult containing (# true positives, # false positives, # true negatives, # false negatives)\n",
    "    \"\"\"\n",
    "    true_positives = 0\n",
    "    false_positives = 0\n",
    "    true_negatives = 0\n",
    "    false_negatives = 0\n",
    "    for idx in range(len(vals)):\n",
    "        if predicted_probs[idx] >= threshold:\n",
    "            if vals[idx]:\n",
    "                true_positives += 1\n",
    "            else:\n",
    "                false_positives += 1\n",
    "        else:\n",
    "            if vals[idx]:\n",
    "                false_negatives += 1\n",
    "            else:\n",
    "                true_negatives += 1\n",
    "    return PredictionCountValues(true_positives, false_positives, true_negatives, false_negatives)"
   ]
  },
  {
   "cell_type": "code",
   "execution_count": 6,
   "metadata": {},
   "outputs": [],
   "source": [
    "def accuracy(vals: np.array, predictions: np.array) -> float:\n",
    "    \"\"\"Calculate the accuracy between the vals vector and the predictions vector\"\"\"\n",
    "    return np.mean(vals == predictions)"
   ]
  },
  {
   "cell_type": "code",
   "execution_count": 7,
   "metadata": {},
   "outputs": [],
   "source": [
    "def generalization_error(vals: np.array, predictions: np.array)-> float:\n",
    "    \"\"\"Calculate the generalization error between the vals and predictions vector\"\"\"\n",
    "    return 1-accuracy(vals, predictions)"
   ]
  },
  {
   "cell_type": "code",
   "execution_count": 8,
   "metadata": {},
   "outputs": [],
   "source": [
    "def precision(vals: np.array, predictions: np.array)-> float:\n",
    "    \"\"\"Calculate the precision=(true positives/total predicted positives) for the vals and predictions vectors\"\"\"\n",
    "    scores = prediction_count_values(vals, predictions)\n",
    "    return scores.precision()"
   ]
  },
  {
   "cell_type": "code",
   "execution_count": 9,
   "metadata": {},
   "outputs": [],
   "source": [
    "def recall(vals: np.array, predictions: np.array)-> float:\n",
    "    \"\"\"Calculate the recall=(true positives/total positives) for the vals and predictions vectors\"\"\"\n",
    "    scores = prediction_count_values(vals, predictions)\n",
    "    return scores.recall()"
   ]
  },
  {
   "cell_type": "code",
   "execution_count": 10,
   "metadata": {},
   "outputs": [],
   "source": [
    "def f1_score(vals: np.array, predictions: np.array)-> float:\n",
    "    \"\"\"Calculate the F1 Score = harmonic_mean(precision, recall)\"\"\"\n",
    "    # Technically looping over array twice unnecessarily, could be more efficient, but okay for now\n",
    "    scores = prediction_count_values(vals, predictions)\n",
    "    prec, rec = scores.precision_and_recall()\n",
    "    return (2*prec*rec)/(prec+rec)"
   ]
  },
  {
   "cell_type": "code",
   "execution_count": 11,
   "metadata": {},
   "outputs": [],
   "source": [
    "def confusion_matrix(vals: np.array, predictions: np.array)-> np.array:\n",
    "    \"\"\"Calculate the confusion matrix for the given values and predictions\"\"\"\n",
    "    scores = prediction_count_values(vals, predictions)\n",
    "    return np.array([[scores.true_negatives, scores.false_positives],[scores.false_negatives, scores.true_positives]])"
   ]
  },
  {
   "cell_type": "code",
   "execution_count": 12,
   "metadata": {},
   "outputs": [],
   "source": [
    "def generate_thresholds(min_val: int, max_val: int, threshold_step_size: float)-> np.array:\n",
    "    \"\"\"Generate threshold values of a given step size from min_val to max_val always including both min and max vals\"\"\"\n",
    "    return np.append(np.arange(min_val,max_val,threshold_step_size), [max_val])"
   ]
  },
  {
   "cell_type": "code",
   "execution_count": 13,
   "metadata": {},
   "outputs": [],
   "source": [
    "def calculate_tpr_fpr(vals: np.array, pred_score_probs: np.array, threshold: float)->(float, float):\n",
    "    \"\"\"Calculate TPR and FPR and return as tuple (tpr, fpr)\"\"\"\n",
    "    scores = prediction_count_values(vals, pred_score_probs, threshold)\n",
    "    tpr = scores.true_positives/(scores.true_positives+scores.false_negatives)\n",
    "    fpr = scores.false_positives/(scores.false_positives+scores.true_negatives)\n",
    "    return (tpr, fpr)"
   ]
  },
  {
   "cell_type": "code",
   "execution_count": 14,
   "metadata": {},
   "outputs": [],
   "source": [
    "def roc_curve(vals: np.array, pred_scores: np.array, threshold_step_size: float = 0.0005) -> (np.array, np.array, np.array):\n",
    "    # NOTE: scikitlearn I think does some fancy things to calculate appropriate thresholds...we'll just use a set step size\n",
    "    max_threshold = 2.0\n",
    "    thresholds = np.append(generate_thresholds(0,1,threshold_step_size), [max_threshold])\n",
    "    thresholds = np.flip(thresholds)\n",
    "    tprs = np.empty(len(thresholds))\n",
    "    fprs = np.empty(len(thresholds))\n",
    "    for idx, threshold in enumerate(thresholds):\n",
    "        tpr, fpr = calculate_tpr_fpr(vals, pred_scores, threshold)\n",
    "        tprs[idx] = tpr\n",
    "        fprs[idx] = fpr\n",
    "    return (tprs, fprs, thresholds)"
   ]
  },
  {
   "cell_type": "code",
   "execution_count": 15,
   "metadata": {},
   "outputs": [],
   "source": [
    "def plot_roc_curve(true_positive_rate: np.array, false_positive_rate: np.array, title='ROC Curve', label=None)-> None:\n",
    "    plt.style.use('ggplot')\n",
    "    fig = plt.figure(figsize=(10,6))\n",
    "    plt.plot(false_positive_rate, true_positive_rate, color='darkorange', linewidth=7, label=label)\n",
    "    plt.plot([0,1], [0,1], color='black', lw=2, linestyle='--')\n",
    "    plt.axis([0,1,0,1])\n",
    "    plt.title(title)\n",
    "    plt.xlabel('False Positive Rate')\n",
    "    plt.ylabel('True Positive Rate')\n",
    "    plt.show()"
   ]
  },
  {
   "cell_type": "code",
   "execution_count": 16,
   "metadata": {},
   "outputs": [],
   "source": [
    "def roc_auc_score(y_vals: np.array, y_predicted_probs: np.array) -> float:\n",
    "    \"\"\"Calculate AUC of the ROC for the given y_vals and y_predicted_probs using the trapezoidal rule\"\"\"\n",
    "    auc = 0\n",
    "    tprs, fprs, _ = roc_curve(y_vals, y_predicted_probs)\n",
    "    # Uses the trapezoidal rule for calculating AUC\n",
    "    for idx in range(len(tprs)-1):\n",
    "        average_tpr = (tprs[idx]+tprs[idx+1])/2\n",
    "        delta_fpr = fprs[idx+1]-fprs[idx]\n",
    "        trap_area = average_tpr*delta_fpr\n",
    "        auc += trap_area\n",
    "    return auc"
   ]
  },
  {
   "cell_type": "code",
   "execution_count": 17,
   "metadata": {},
   "outputs": [],
   "source": [
    "def precision_recall_curve(vals: np.array, predicted_scores: np.array, threshold_step_size=0.0005) -> (np.array, np.array, np.array):\n",
    "    \"\"\"Calculate precision recall curve and return precisions, recalls, thresholds\"\"\"\n",
    "    thresholds = generate_thresholds(0,1,threshold_step_size)\n",
    "    precisions = np.empty(len(thresholds))\n",
    "    recalls = np.empty(len(thresholds))\n",
    "    thresholds = np.flip(thresholds) # Reverse thresholds array\n",
    "    for idx, threshold in enumerate(thresholds):\n",
    "        scores = prediction_count_values(vals, predicted_scores, threshold)\n",
    "        precisionScore, recallScore = scores.precision_and_recall()\n",
    "        precisions[idx] = precisionScore\n",
    "        recalls[idx] = recallScore\n",
    "    return (precisions, recalls, thresholds)"
   ]
  },
  {
   "cell_type": "code",
   "execution_count": 18,
   "metadata": {},
   "outputs": [],
   "source": [
    "def plot_precision_recall_curve(precisions: np.array, recalls: np.array, thresholds: np.array, title='Precision-Recall Curve') -> None:\n",
    "    plt.style.use('ggplot')\n",
    "    fig = plt.figure(figsize=(10,6))\n",
    "    plt.plot(thresholds, precisions, 'b--', linewidth=8, label='Precision')\n",
    "    plt.plot(thresholds, recalls, 'g-', linewidth=3, label='Recall')\n",
    "    plt.xlabel('Threshold')\n",
    "    plt.legend(loc='lower left')\n",
    "    plt.title(title)\n",
    "    plt.ylim([0,1.1])\n",
    "    plt.show()"
   ]
  },
  {
   "cell_type": "code",
   "execution_count": 19,
   "metadata": {},
   "outputs": [],
   "source": [
    "class KNN_Classifier:\n",
    "    \"\"\"KNN classifier\"\"\"\n",
    "    def __init__(self):\n",
    "        pass\n",
    "    \n",
    "    def fit(self, X: np.array, Y: np.array, n_neighbors: int, weights = 'uniform', **kwargs) -> None:\n",
    "        \"\"\"\n",
    "        Initialize the KNN classifier values. Note p is the power on the Minkowski metric\n",
    "        NOTE: If you want to use a specific metric put it in kwargs with the metric parameter\n",
    "        Currently implemented metrics are manhattan and euclidean\n",
    "        \"\"\"\n",
    "        self.X = X\n",
    "        self.Y = Y\n",
    "        self.n_neighbors = n_neighbors\n",
    "        self.weights = weights\n",
    "        self.kwargs = kwargs\n",
    "        self.metric = manhattan_dist if ('metric' in kwargs and kwargs['metric'] == 'manhattan') else euclidean_dist\n",
    "    \n",
    "    def predict(self, X: np.array)-> np.array:\n",
    "        \"\"\"Predict the classification of each input in given ndarray\"\"\"\n",
    "        preds = np.empty(X.shape[0])\n",
    "        for idx, x in enumerate(X):\n",
    "            neighborhood = self.__find_neighbors(x)\n",
    "            neighbors = [(distance, self.Y[neighbor]) for distance, neighbor in neighborhood]\n",
    "            if self.weights is 'distance':\n",
    "                class1_score = 0\n",
    "                class2_score = 0\n",
    "                for dist, y in neighbors:\n",
    "                    if y:\n",
    "                        class1_score += (1/dist)\n",
    "                    else:\n",
    "                        class2_score += (1/dist)\n",
    "                preds[idx] = 1 if class1_score > class2_score else 0\n",
    "            else:\n",
    "                nearest_nei_total_true = sum(val for _, val in neighbors)\n",
    "                preds[idx] = 1 if nearest_nei_total_true > (self.n_neighbors/2) else 0\n",
    "        return preds\n",
    "            \n",
    "    def __find_neighbors(self, sample: np.array) -> list:\n",
    "        \"\"\"Find list of nearest neighbors\"\"\"\n",
    "        distances = []\n",
    "        # Note: could try to optimize and keep track of nearest neighbors as you go but ends up with lots of operations on neighbors list\n",
    "        for idx, data in enumerate(self.X):\n",
    "            distance = self.metric(sample, data)\n",
    "            distances.append((distance, idx))\n",
    "        return sorted(distances)[:self.n_neighbors]"
   ]
  },
  {
   "cell_type": "markdown",
   "metadata": {},
   "source": [
    "# Test Things Below (DELETE BEFORE SUBMISSION)\n",
    "\n",
    "### Just simple non-rigorous sanity checks"
   ]
  },
  {
   "cell_type": "code",
   "execution_count": 21,
   "metadata": {},
   "outputs": [
    {
     "name": "stdout",
     "output_type": "stream",
     "text": [
      "14\n",
      "0.5714285714285714\n",
      "0.4285714285714286\n",
      "0.6666666666666666\n",
      "0.5\n",
      "0.5714285714285715\n",
      "[[4 2]\n",
      " [4 4]]\n"
     ]
    }
   ],
   "source": [
    "# VERY QUICK NOT RIGOROUS TEST CELL\n",
    "y_vals = np.array([1,0,1,1,0,0,0,1,1,0,0,1,1,1])\n",
    "y_preds = np.array([0,1,1,1,0,0,0,1,0,1,0,0,1,0])\n",
    "print(len(y_vals))\n",
    "print(accuracy(y_vals,y_preds))\n",
    "print(generalization_error(y_vals, y_preds))\n",
    "print(precision(y_vals, y_preds))\n",
    "print(recall(y_vals, y_preds))\n",
    "print(f1_score(y_vals, y_preds))\n",
    "print(confusion_matrix(y_vals,y_preds))\n"
   ]
  },
  {
   "cell_type": "code",
   "execution_count": 22,
   "metadata": {},
   "outputs": [],
   "source": [
    "# Loading data from reci3 to get test data\n",
    "from pathlib import Path \n",
    "test_data = Path('/Users/scott.martin/Documents/unl_box/Box Sync/courses/csce878_machine_learning/recitations/recitation3')\n",
    "y_scores = []\n",
    "with open(test_data/'y_scores.csv') as file:\n",
    "    for line in file:\n",
    "        y_scores.append(float(line.strip()))\n",
    "    \n",
    "y_vals = []\n",
    "with open(test_data/'y_values.csv') as file:\n",
    "    for line in file:\n",
    "        y_vals.append(float(line.strip()))\n",
    "\n",
    "y_scores = np.array(y_scores)\n",
    "y_vals = np.array(y_vals)"
   ]
  },
  {
   "cell_type": "code",
   "execution_count": 23,
   "metadata": {},
   "outputs": [],
   "source": [
    "tpr, fpr, thresholds = roc_curve(y_vals, y_scores) # This is SOOOOOO SLOW!!! Speed it up...I'm being dumb"
   ]
  },
  {
   "cell_type": "code",
   "execution_count": 24,
   "metadata": {},
   "outputs": [
    {
     "data": {
      "image/png": "[encoded data removed]",
      "text/plain": [
       "<Figure size 720x432 with 1 Axes>"
      ]
     },
     "metadata": {},
     "output_type": "display_data"
    }
   ],
   "source": [
    "plot_roc_curve(tpr, fpr)"
   ]
  },
  {
   "cell_type": "code",
   "execution_count": 25,
   "metadata": {},
   "outputs": [
    {
     "data": {
      "text/plain": [
       "0.9045316774078174"
      ]
     },
     "execution_count": 25,
     "metadata": {},
     "output_type": "execute_result"
    }
   ],
   "source": [
    "roc_auc_score(y_vals,y_scores) # Still hideously slow...but okay"
   ]
  },
  {
   "cell_type": "code",
   "execution_count": 26,
   "metadata": {},
   "outputs": [],
   "source": [
    "precision_tests, recall_tests, new_thresh = precision_recall_curve(y_vals, y_scores)"
   ]
  },
  {
   "cell_type": "code",
   "execution_count": 27,
   "metadata": {},
   "outputs": [
    {
     "data": {
      "image/png": "[encoded data removed]",
      "text/plain": [
       "<Figure size 720x432 with 1 Axes>"
      ]
     },
     "metadata": {},
     "output_type": "display_data"
    }
   ],
   "source": [
    "plot_precision_recall_curve(precision_tests, recall_tests, new_thresh)"
   ]
  },
  {
   "cell_type": "code",
   "execution_count": 28,
   "metadata": {},
   "outputs": [],
   "source": [
    "df = pd.read_csv(test_data/'winequality-white.csv', delimiter=';')\n",
    "target = (df['quality']>5).astype(np.int)\n",
    "df = df.drop(columns=['quality'])"
   ]
  },
  {
   "cell_type": "code",
   "execution_count": 34,
   "metadata": {},
   "outputs": [],
   "source": [
    "from sklearn.model_selection import train_test_split\n",
    "from sklearn.preprocessing import scale\n",
    "x_train, x_test, y_train, y_test = train_test_split(df, target)\n",
    "x_train = scale(x_train)\n",
    "x_test = scale(x_test)"
   ]
  },
  {
   "cell_type": "code",
   "execution_count": 35,
   "metadata": {},
   "outputs": [],
   "source": [
    "knn = KNN_Classifier()\n",
    "knn.fit(x_train, y_train.values, 9)"
   ]
  },
  {
   "cell_type": "code",
   "execution_count": 36,
   "metadata": {},
   "outputs": [],
   "source": [
    "rsm_x_test = x_test\n",
    "rsm_y_test = y_test.values"
   ]
  },
  {
   "cell_type": "code",
   "execution_count": 37,
   "metadata": {},
   "outputs": [],
   "source": [
    "ys = knn.predict(rsm_x_test)"
   ]
  },
  {
   "cell_type": "code",
   "execution_count": 38,
   "metadata": {},
   "outputs": [
    {
     "name": "stdout",
     "output_type": "stream",
     "text": [
      "0.7681632653061224\n"
     ]
    }
   ],
   "source": [
    "print(accuracy(rsm_y_test, ys))"
   ]
  },
  {
   "cell_type": "code",
   "execution_count": null,
   "metadata": {},
   "outputs": [],
   "source": []
  }
 ],
 "metadata": {
  "kernelspec": {
   "display_name": "Python 3",
   "language": "python",
   "name": "python3"
  },
  "language_info": {
   "codemirror_mode": {
    "name": "ipython",
    "version": 3
   },
   "file_extension": ".py",
   "mimetype": "text/x-python",
   "name": "python",
   "nbconvert_exporter": "python",
   "pygments_lexer": "ipython3",
   "version": "3.7.6"
  }
 },
 "nbformat": 4,
 "nbformat_minor": 4
}
