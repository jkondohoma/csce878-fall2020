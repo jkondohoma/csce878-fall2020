{
 "cells": [
  {
   "cell_type": "markdown",
   "metadata": {},
   "source": [
    "# Assignment 1\n",
    "## K Nearest Neighbors Model for Binary Classification"
   ]
  },
  {
   "cell_type": "markdown",
   "metadata": {},
   "source": [
    "### Part A: Model Code"
   ]
  },
  {
   "cell_type": "code",
   "execution_count": 3,
   "metadata": {},
   "outputs": [],
   "source": [
    "import pandas as pd\n",
    "import numpy as np\n",
    "import matplotlib.pyplot as plt\n",
    "\n",
    "%matplotlib inline"
   ]
  },
  {
   "cell_type": "code",
   "execution_count": 59,
   "metadata": {},
   "outputs": [],
   "source": [
    "# I'm assuming by vector he means a 1D numpy array so that's what v and w are\n",
    "def minkowski_dist(v: np.array, w: np.array, p: int) -> float:\n",
    "    \"\"\"Calculate the or L_p distance between 2 vectors v and w for an integer p\"\"\"\n",
    "    if v.ndim != 1 or w.ndim != 1:\n",
    "        raise ValueError('Inputs must be vectors')\n",
    "    if v.shape[0] != w.shape[0]: # at the moment assumes look like a list...should maybe allow a vector too\n",
    "        raise ValueError('Vectors must be of the same length')\n",
    "    sum = 0\n",
    "    for i in range(v.shape[0]):\n",
    "        difference = abs(v[i]-w[i])\n",
    "        sum += pow(difference, p)\n",
    "    return pow(sum, 1/p)"
   ]
  },
  {
   "cell_type": "code",
   "execution_count": 60,
   "metadata": {},
   "outputs": [],
   "source": [
    "def euclidean_dist(v: np.array, w: np.array) -> float:\n",
    "    \"\"\"Calculate the euclidean distance between 2 vectors v and w\"\"\"\n",
    "    return minkowski_dist(v,w,2)"
   ]
  },
  {
   "cell_type": "code",
   "execution_count": 61,
   "metadata": {},
   "outputs": [],
   "source": [
    "def manhattan_dist(v: np.array, w: np.array) -> float:\n",
    "    \"\"\"Calcuate the Manhattan (or L_1) distance between 2 vectors v and w\"\"\"\n",
    "    return minkowski_dist(v,w,1)"
   ]
  },
  {
   "cell_type": "code",
   "execution_count": 64,
   "metadata": {},
   "outputs": [
    {
     "data": {
      "text/plain": [
       "35.0"
      ]
     },
     "execution_count": 64,
     "metadata": {},
     "output_type": "execute_result"
    }
   ],
   "source": [
    "manhattan_dist(np.array([7,2,-8,10]), np.array([-3,4,7,2]))"
   ]
  },
  {
   "cell_type": "code",
   "execution_count": null,
   "metadata": {},
   "outputs": [],
   "source": []
  }
 ],
 "metadata": {
  "kernelspec": {
   "display_name": "Python 3",
   "language": "python",
   "name": "python3"
  },
  "language_info": {
   "codemirror_mode": {
    "name": "ipython",
    "version": 3
   },
   "file_extension": ".py",
   "mimetype": "text/x-python",
   "name": "python",
   "nbconvert_exporter": "python",
   "pygments_lexer": "ipython3",
   "version": "3.7.6"
  }
 },
 "nbformat": 4,
 "nbformat_minor": 4
}
